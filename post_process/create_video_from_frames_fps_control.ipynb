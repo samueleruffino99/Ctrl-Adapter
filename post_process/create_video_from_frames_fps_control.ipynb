{
 "cells": [
  {
   "cell_type": "code",
   "execution_count": 7,
   "metadata": {},
   "outputs": [
    {
     "name": "stdout",
     "output_type": "stream",
     "text": [
      "Total frames found: 33\n",
      "Total frames used for video: 18\n",
      "Frame size: 1600x1200\n"
     ]
    },
    {
     "ename": "OSError",
     "evalue": "VideoWriter not opened. Output path: /mnt/d/marketing/normal/straight/output_video.mp4",
     "output_type": "error",
     "traceback": [
      "\u001b[0;31m---------------------------------------------------------------------------\u001b[0m",
      "\u001b[0;31mOSError\u001b[0m                                   Traceback (most recent call last)",
      "Cell \u001b[0;32mIn[7], line 62\u001b[0m\n\u001b[1;32m     59\u001b[0m video_length \u001b[38;5;241m=\u001b[39m \u001b[38;5;241m1.8\u001b[39m  \u001b[38;5;66;03m# seconds\u001b[39;00m\n\u001b[1;32m     60\u001b[0m output_video_path \u001b[38;5;241m=\u001b[39m os\u001b[38;5;241m.\u001b[39mpath\u001b[38;5;241m.\u001b[39mjoin(base_path, \u001b[38;5;124m\"\u001b[39m\u001b[38;5;124moutput_video.mp4\u001b[39m\u001b[38;5;124m\"\u001b[39m)\n\u001b[0;32m---> 62\u001b[0m \u001b[43mcreate_video_from_frames\u001b[49m\u001b[43m(\u001b[49m\u001b[43moutput_dir\u001b[49m\u001b[43m,\u001b[49m\u001b[43m \u001b[49m\u001b[43moutput_video_path\u001b[49m\u001b[43m,\u001b[49m\u001b[43m \u001b[49m\u001b[43mframe_rate\u001b[49m\u001b[43m,\u001b[49m\u001b[43m \u001b[49m\u001b[43mvideo_length\u001b[49m\u001b[43m)\u001b[49m\n",
      "Cell \u001b[0;32mIn[7], line 43\u001b[0m, in \u001b[0;36mcreate_video_from_frames\u001b[0;34m(frame_dir, output_video_path, frame_rate, video_length)\u001b[0m\n\u001b[1;32m     40\u001b[0m video \u001b[38;5;241m=\u001b[39m cv2\u001b[38;5;241m.\u001b[39mVideoWriter(output_video_path, fourcc, frame_rate, (width, height))\n\u001b[1;32m     42\u001b[0m \u001b[38;5;28;01mif\u001b[39;00m \u001b[38;5;129;01mnot\u001b[39;00m video\u001b[38;5;241m.\u001b[39misOpened():\n\u001b[0;32m---> 43\u001b[0m     \u001b[38;5;28;01mraise\u001b[39;00m \u001b[38;5;167;01mIOError\u001b[39;00m(\u001b[38;5;124mf\u001b[39m\u001b[38;5;124m\"\u001b[39m\u001b[38;5;124mVideoWriter not opened. Output path: \u001b[39m\u001b[38;5;132;01m{\u001b[39;00moutput_video_path\u001b[38;5;132;01m}\u001b[39;00m\u001b[38;5;124m\"\u001b[39m)\n\u001b[1;32m     45\u001b[0m \u001b[38;5;28;01mfor\u001b[39;00m frame_path \u001b[38;5;129;01min\u001b[39;00m sampled_frames:\n\u001b[1;32m     46\u001b[0m     frame \u001b[38;5;241m=\u001b[39m cv2\u001b[38;5;241m.\u001b[39mimread(frame_path)\n",
      "\u001b[0;31mOSError\u001b[0m: VideoWriter not opened. Output path: /mnt/d/marketing/normal/straight/output_video.mp4"
     ]
    }
   ],
   "source": [
    "import os\n",
    "import cv2\n",
    "import numpy as np\n",
    "\n",
    "def create_video_from_frames(frame_dir, output_video_path, frame_rate, video_length):\n",
    "    # Get the list of frames\n",
    "    frames = [os.path.join(frame_dir, f) for f in os.listdir(frame_dir) if f.endswith(('.png', '.jpg', '.jpeg'))]\n",
    "    frames = frames[:33] if len(frames) > 33 else frames\n",
    "    if \"frame\" in frames[0]:\n",
    "        frames.sort(key=lambda x: int(x.split(\"frame\")[-1].replace(\".png\", \"\")))\n",
    "    else:\n",
    "        frames.sort()  # Ensure frames are in the correct order\n",
    "\n",
    "    print(f\"Total frames found: {len(frames)}\")\n",
    "\n",
    "    total_frames = int(frame_rate * video_length)\n",
    "    num_frames = len(frames)\n",
    "\n",
    "    if num_frames < total_frames:\n",
    "        raise ValueError(f\"Not enough frames ({num_frames}) for the desired video length ({video_length}s) and frame rate ({frame_rate}fps)\")\n",
    "\n",
    "    # Calculate the step size for sampling frames if necessary\n",
    "    if num_frames > total_frames:\n",
    "        step = num_frames / total_frames\n",
    "        sampled_frames = [frames[int(i * step)] for i in range(total_frames)]\n",
    "    else:\n",
    "        sampled_frames = frames\n",
    "\n",
    "    print(f\"Total frames used for video: {len(sampled_frames)}\")\n",
    "\n",
    "    # Get the size of the frames\n",
    "    frame = cv2.imread(sampled_frames[0])\n",
    "    if frame is None:\n",
    "        raise ValueError(f\"Could not read the first frame: {sampled_frames[0]}\")\n",
    "    height, width, layers = frame.shape\n",
    "    print(f\"Frame size: {width}x{height}\")\n",
    "\n",
    "    # Define the codec and create a VideoWriter object\n",
    "    fourcc = cv2.VideoWriter_fourcc(*'mp4v')\n",
    "    video = cv2.VideoWriter(output_video_path, fourcc, frame_rate, (width, height))\n",
    "\n",
    "    if not video.isOpened():\n",
    "        raise IOError(f\"VideoWriter not opened. Output path: {output_video_path}\")\n",
    "\n",
    "    for frame_path in sampled_frames:\n",
    "        frame = cv2.imread(frame_path)\n",
    "        # Crop the frame to 640x360 \n",
    "        frame = frame[0:360, 0:640]\n",
    "        if frame is None:\n",
    "            raise ValueError(f\"Could not read frame: {frame_path}\")\n",
    "        video.write(frame)\n",
    "\n",
    "    video.release()\n",
    "    print(f\"Video saved to: {output_video_path}\")\n",
    "\n",
    "base_path = \"/mnt/d/marketing/normal/straight\"\n",
    "base_path = f\"/mnt/d/marketing/process/0241/{dir}/\"\n",
    "# output_dir = os.path.join(base_path, \"rgb\")\n",
    "output_dir = os.path.join(base_path, \"rgb_70\")\n",
    "\n",
    "frame_rate = 10  # frames per second\n",
    "video_length = 1.8  # seconds\n",
    "output_video_path = os.path.join(base_path, \"output_video.mp4\")\n",
    "\n",
    "create_video_from_frames(output_dir, output_video_path, frame_rate, video_length)\n"
   ]
  }
 ],
 "metadata": {
  "kernelspec": {
   "display_name": "scenarionet_2",
   "language": "python",
   "name": "python3"
  },
  "language_info": {
   "codemirror_mode": {
    "name": "ipython",
    "version": 3
   },
   "file_extension": ".py",
   "mimetype": "text/x-python",
   "name": "python",
   "nbconvert_exporter": "python",
   "pygments_lexer": "ipython3",
   "version": "3.9.undefined"
  }
 },
 "nbformat": 4,
 "nbformat_minor": 2
}
